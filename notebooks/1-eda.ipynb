{
 "cells": [
  {
   "cell_type": "code",
   "execution_count": 4,
   "id": "32914024",
   "metadata": {},
   "outputs": [],
   "source": [
    "# pip3 install torch torchvision torchaudio --index-url https://download.pytorch.org/whl/cpu"
   ]
  },
  {
   "cell_type": "code",
   "execution_count": 5,
   "id": "fb25452b",
   "metadata": {},
   "outputs": [],
   "source": [
    "# %load_ext autoreload\n",
    "# %autoreload 2"
   ]
  },
  {
   "cell_type": "code",
   "execution_count": 6,
   "id": "08f160ad",
   "metadata": {},
   "outputs": [],
   "source": [
    "import tqdm\n",
    "import numpy as np\n",
    "import pandas as pd\n",
    "from sklearn.metrics import log_loss, accuracy_score, confusion_matrix\n",
    "from sklearn.model_selection import train_test_split\n",
    "from scipy.special import expit\n",
    "\n",
    "import torch\n",
    "import torch.nn as nn\n",
    "import torch.optim as optim\n",
    "from torch.utils.data import TensorDataset, DataLoader\n",
    "\n",
    "#import plotly.subplots as sp\n",
    "#import plotly.graph_objects as go\n",
    "import matplotlib.pyplot as plt"
   ]
  },
  {
   "cell_type": "code",
   "execution_count": 7,
   "id": "061b1c92",
   "metadata": {},
   "outputs": [],
   "source": [
    "import os\n",
    "import random\n",
    "\n",
    "def seed_everything(seed):\n",
    "    random.seed(seed)\n",
    "    os.environ[\"PYTHONHASHSEED\"] = str(seed)\n",
    "    np.random.seed(seed)\n",
    "    torch.manual_seed(seed)\n",
    "    torch.cuda.manual_seed(seed)\n",
    "    torch.backends.cudnn.deterministic = True"
   ]
  },
  {
   "cell_type": "code",
   "execution_count": 8,
   "id": "c0d1962d",
   "metadata": {},
   "outputs": [],
   "source": [
    "speed_cols = [\n",
    "    \"a1_kedaung_speed_kt\",\n",
    "    \"a2_airnav_tower_710_speed_kt\",\n",
    "    \"a3_airnav_tower_720_speed_kt\",\n",
    "    \"a4_pintu_kapuk_speed_kt\",\n",
    "    \"a5_bmkg_old_llwas_tower_2_speed_kt\",\n",
    "    \"a6_batu_ceper_speed_kt\",\n",
    "    \"a7_benda_speed_kt\",\n",
    "    \"a8_bayur_speed_kt\",\n",
    "    \"a9_rawa_burung_speed_kt\",\n",
    "    \"a10_kelor_speed_kt\",\n",
    "    \"a11_comm_tower_speed_kt\",\n",
    "    \"a12_bmkg_old_llwas_tower_1_speed_kt\",\n",
    "]\n",
    "\n",
    "direction_cols = [\n",
    "    \"a1_kedaung_dir_deg\", \n",
    "    \"a2_airnav_tower_710_dir_deg\",\n",
    "    \"a3_airnav_tower_720_dir_deg\",\n",
    "    \"a4_pintu_kapuk_dir_deg\",\n",
    "    \"a5_bmkg_old_llwas_tower_2_dir_deg\",\n",
    "    \"a6_batu_ceper_dir_deg\",\n",
    "    \"a7_benda_dir_deg\",\n",
    "    \"a8_bayur_dir_deg\",\n",
    "    \"a9_rawa_burung_dir_deg\",\n",
    "    \"a10_kelor_dir_deg\",\n",
    "    \"a11_comm_tower_dir_deg\",\n",
    "    \"a12_bmkg_old_llwas_tower_1_dir_deg\"    \n",
    "]\n",
    "\n",
    "target_cols = [\n",
    "    \"rwy_07la\", \"rwy_25rd\", \"rwy_25ra\", \"rwy_07ld\",\n",
    "    \"rwy_07ra\", \"rwy_25ld\", \"rwy_25la\", \"rwy_07rd\"\n",
    "]"
   ]
  },
  {
   "cell_type": "code",
   "execution_count": 9,
   "id": "ef34d2a6",
   "metadata": {},
   "outputs": [],
   "source": [
    "import torch\n",
    "import torch.nn as nn\n",
    "from torch.nn.utils import weight_norm\n",
    "\n",
    "\n",
    "class TemporalBlock(nn.Module):\n",
    "    \"\"\"\n",
    "    A class representing a temporal block used in Temporal Convolutional Networks (TCNs).\n",
    "\n",
    "    Args:\n",
    "    - n_inputs (int): the number of input channels\n",
    "    - n_outputs (int): the number of output channels\n",
    "    - kernel_size (int): the size of the convolutional kernel\n",
    "    - stride (int): the stride used in convolution\n",
    "    - dilation (int): the dilation used in convolution\n",
    "    - padding (int): the padding used in convolution\n",
    "    - dropout (float): the dropout probability\n",
    "\n",
    "    Attributes:\n",
    "    - conv1 (torch.nn.Conv2d): the first convolutional layer\n",
    "    - pad (torch.nn.ZeroPad2d): the zero-padding layer\n",
    "    - relu (torch.nn.ReLU): the activation function\n",
    "    - dropout (torch.nn.Dropout): the dropout layer\n",
    "    - conv2 (torch.nn.Conv2d): the second convolutional layer\n",
    "    - net (torch.nn.Sequential): the sequence of layers composing the temporal block\n",
    "    - downsample (torch.nn.Conv1d): the optional downsample layer\n",
    "    - relu (torch.nn.ReLU): the activation function\n",
    "    \"\"\"\n",
    "    \n",
    "    def __init__(self, n_inputs, n_outputs, kernel_size, stride, dilation, padding, dropout=0.2):\n",
    "        super(TemporalBlock, self).__init__()\n",
    "        self.conv1 = weight_norm(nn.Conv2d(n_inputs, n_outputs, (1, kernel_size),\n",
    "                                           stride=stride, padding=0, dilation=dilation))\n",
    "        self.pad = torch.nn.ZeroPad2d((padding, 0, 0, 0))\n",
    "        self.relu = nn.ReLU()\n",
    "        self.dropout = nn.Dropout(dropout)\n",
    "        self.conv2 = weight_norm(nn.Conv2d(n_outputs, n_outputs, (1, kernel_size),\n",
    "                                           stride=stride, padding=0, dilation=dilation))\n",
    "        self.net = nn.Sequential(self.pad, self.conv1, self.relu, self.dropout,\n",
    "                                 self.pad, self.conv2, self.relu, self.dropout)\n",
    "        self.downsample = nn.Conv1d(\n",
    "            n_inputs, n_outputs, 1) if n_inputs != n_outputs else None\n",
    "        self.relu = nn.ReLU()\n",
    "        self.init_weights()\n",
    "\n",
    "    def init_weights(self):\n",
    "        \"\"\"\n",
    "        Initializes the weights of the convolutional layers using normal distribution with mean 0 and standard\n",
    "        deviation 0.01.\n",
    "        \"\"\"        \n",
    "        self.conv1.weight.data.normal_(0, 0.01)\n",
    "        self.conv2.weight.data.normal_(0, 0.01)\n",
    "        if self.downsample is not None:\n",
    "            self.downsample.weight.data.normal_(0, 0.01)\n",
    "\n",
    "    def forward(self, x):\n",
    "        \"\"\"\n",
    "        Performs a forward pass through the temporal block.\n",
    "\n",
    "        Args:\n",
    "        - x (torch.Tensor): the input tensor of shape (batch_size, input_channels, sequence_length)\n",
    "\n",
    "        Returns:\n",
    "        - out (torch.Tensor): the output tensor of shape (batch_size, output_channels, sequence_length)\n",
    "        \"\"\"        \n",
    "        out = self.net(x.unsqueeze(2)).squeeze(2)\n",
    "        res = x if self.downsample is None else self.downsample(x)\n",
    "        return self.relu(out + res)\n",
    "\n",
    "\n",
    "class TemporalConvNet(nn.Module):\n",
    "    \"\"\"\n",
    "    The TemporalConvNet class is a PyTorch module that implements a temporal convolutional\n",
    "    network for sequence forecasting tasks.\n",
    "\n",
    "    Args:\n",
    "    - num_inputs (int): The number of input features.\n",
    "    - num_channels (List[int]): A list of integers representing the number of channels in each convolutional layer.\n",
    "    - kernel_size (int, optional): The kernel size of the convolutional layers. Default is 2.\n",
    "    - dropout (float, optional): The dropout rate to apply after each convolutional layer. Default is 0.2.\n",
    "\n",
    "    Attributes:\n",
    "    - network (nn.Sequential): A PyTorch sequential module containing the TemporalBlock layers.\n",
    "    \"\"\"\n",
    "    def __init__(self, num_inputs, num_channels, input_length=60, output_length=1, kernel_size=2, dropout=0.2):\n",
    "        super(TemporalConvNet, self).__init__()\n",
    "        layers = []\n",
    "        num_levels = len(num_channels)\n",
    "        for i in range(num_levels):\n",
    "            dilation_size = 2 ** i\n",
    "            in_channels = num_inputs if i == 0 else num_channels[i-1]\n",
    "            out_channels = num_channels[i]\n",
    "            layers += [TemporalBlock(in_channels, out_channels, kernel_size, stride=1, dilation=dilation_size,\n",
    "                                     padding=(kernel_size-1) * dilation_size, dropout=dropout)]\n",
    "\n",
    "        self.network = nn.Sequential(*layers)\n",
    "        self.fc = nn.Linear(input_length*num_channels[-1], output_length)\n",
    "\n",
    "    def forward(self, x):\n",
    "        x = self.network(x)\n",
    "        return self.fc(x.reshape(x.shape[0], -1)).flatten()"
   ]
  },
  {
   "cell_type": "code",
   "execution_count": 10,
   "id": "de67e115",
   "metadata": {
    "scrolled": true
   },
   "outputs": [
    {
     "name": "stderr",
     "output_type": "stream",
     "text": [
      "Find valid sequences: 100%|████████████████████████████████████████████████████████████| 24/24 [01:31<00:00,  3.81s/it]\n",
      "Collect features and targets: 100%|███████████████████████████████████████████| 102190/102190 [06:27<00:00, 264.01it/s]\n"
     ]
    },
    {
     "name": "stdout",
     "output_type": "stream",
     "text": [
      "CPU times: total: 5min 44s\n",
      "Wall time: 8min 15s\n"
     ]
    }
   ],
   "source": [
    "%%time\n",
    "\n",
    "# load data\n",
    "DATA_PATH = \"C:/Users/ejhas/Downloads/Algoritma/6-classification_in_machine_learning_i-main\"\n",
    "observations = pd.read_csv(f\"{DATA_PATH}/data/observations.csv\", low_memory=False)\n",
    "warnings = pd.read_csv(f\"{DATA_PATH}/data/warnings.csv\", low_memory=False)\n",
    "\n",
    "# convert to datetime\n",
    "observations[\"time\"] = pd.to_datetime(observations[\"time\"])\n",
    "warnings[\"time\"] = pd.to_datetime(warnings[\"time\"])\n",
    "\n",
    "# combine data\n",
    "observations = observations.merge(warnings, on=\"time\")\n",
    "del warnings\n",
    "\n",
    "# create indicator for warnings\n",
    "for x in target_cols:\n",
    "    observations[x] = (~observations[x].str.contains(\"NIL|///\")).astype(np.int32)\n",
    "    \n",
    "# resample every 10s\n",
    "observations = observations.set_index(\"time\").resample(\"10S\").mean()\n",
    "\n",
    "# Calculate the target variable\n",
    "for x in target_cols:\n",
    "    target = pd.Series(np.zeros(len(observations)), index=observations[x].index)\n",
    "    for i in range(15*6):\n",
    "        target += observations[x].shift(-(360 + i)).values\n",
    "    observations[x] = (target > 0).astype(np.int32)\n",
    "    \n",
    "# find rows that are okay to use as a sequence\n",
    "seq_ok = pd.Series(np.zeros(len(observations)), index=observations.index)\n",
    "seq_ok.iloc[:60] = -1\n",
    "\n",
    "for x in tqdm.tqdm(speed_cols + direction_cols, desc=\"Find valid sequences\"):\n",
    "    series = ~observations[x].isna()\n",
    "    seq_ok += series.rolling(window=60, min_periods=1).apply(np.all, raw=True)    \n",
    "observations[\"is_valid_seq\"] = (seq_ok == 24.0)    \n",
    "\n",
    "# get x-y comonents of wind speed\n",
    "feature_cols = []\n",
    "for s_col,d_col in zip(speed_cols, direction_cols):\n",
    "    theta = -np.pi*(observations[d_col] - 90)/180\n",
    "    observations[f\"{s_col}_x\"] = observations[s_col] * np.cos(theta)\n",
    "    observations[f\"{s_col}_y\"] = observations[s_col] * np.sin(theta)\n",
    "    feature_cols.extend([f\"{s_col}_x\", f\"{s_col}_y\"])\n",
    "    \n",
    "# collect features and targets into arrays\n",
    "features, targets = [], []\n",
    "for i in tqdm.tqdm(np.where(observations.is_valid_seq)[0], desc=\"Collect features and targets\"):\n",
    "    features.append(observations.iloc[i-60+1:i+1][feature_cols].values)\n",
    "    targets.append(observations.iloc[i][target_cols].values)\n",
    "features = np.array(features, dtype=np.float32)\n",
    "targets = np.array(targets, dtype=np.float32)"
   ]
  },
  {
   "cell_type": "code",
   "execution_count": 16,
   "id": "2350304c",
   "metadata": {},
   "outputs": [],
   "source": [
    "# split data into train and test\n",
    "target_num = 2\n",
    "trn_idx, val_idx = train_test_split(np.arange(len(features)), test_size=0.2, stratify=targets[:, target_num])\n",
    "trn_idx = np.append(\n",
    "    np.random.choice(trn_idx[targets[trn_idx, target_num] == 0], 1000),\n",
    "    trn_idx[targets[trn_idx, target_num] == 1]\n",
    ")\n",
    "\n",
    "trn_features, trn_targets = features[trn_idx], targets[trn_idx, target_num]\n",
    "val_features, val_targets = features[val_idx], targets[val_idx, target_num]\n",
    "\n",
    "trn_dataset = TensorDataset(torch.tensor(trn_features), torch.tensor(trn_targets))\n",
    "val_dataset = TensorDataset(torch.tensor(val_features), torch.tensor(val_targets))\n",
    "\n",
    "trn_loader = DataLoader(trn_dataset, batch_size=32, shuffle=True)\n",
    "val_loader = DataLoader(val_dataset, batch_size=32, shuffle=False)"
   ]
  },
  {
   "cell_type": "code",
   "execution_count": 12,
   "id": "5c7837d6",
   "metadata": {},
   "outputs": [
    {
     "ename": "AttributeError",
     "evalue": "'str' object has no attribute 'shape'",
     "output_type": "error",
     "traceback": [
      "\u001b[1;31m---------------------------------------------------------------------------\u001b[0m",
      "\u001b[1;31mAttributeError\u001b[0m                            Traceback (most recent call last)",
      "Cell \u001b[1;32mIn[12], line 1\u001b[0m\n\u001b[1;32m----> 1\u001b[0m \u001b[43mx\u001b[49m\u001b[38;5;241;43m.\u001b[39;49m\u001b[43mshape\u001b[49m, y\u001b[38;5;241m.\u001b[39mshape\n",
      "\u001b[1;31mAttributeError\u001b[0m: 'str' object has no attribute 'shape'"
     ]
    }
   ],
   "source": [
    "#x.shape, y.shape"
   ]
  },
  {
   "cell_type": "code",
   "execution_count": 17,
   "id": "736c7275",
   "metadata": {
    "scrolled": false
   },
   "outputs": [
    {
     "name": "stdout",
     "output_type": "stream",
     "text": [
      "Epoch 1/10, Average Loss: 0.5176\n",
      "Epoch 2/10, Average Loss: 0.2112\n",
      "Epoch 3/10, Average Loss: 0.1416\n",
      "Epoch 4/10, Average Loss: 0.1096\n",
      "Epoch 5/10, Average Loss: 0.0871\n",
      "Epoch 6/10, Average Loss: 0.0728\n",
      "Epoch 7/10, Average Loss: 0.0652\n",
      "Epoch 8/10, Average Loss: 0.0596\n",
      "Epoch 9/10, Average Loss: 0.0545\n",
      "Epoch 10/10, Average Loss: 0.0506\n"
     ]
    },
    {
     "data": {
      "image/png": "[encoded data removed]",
      "text/plain": [
       "<Figure size 640x480 with 1 Axes>"
      ]
     },
     "metadata": {},
     "output_type": "display_data"
    }
   ],
   "source": [
    "# Initialize the model, loss function, and optimizer\n",
    "seed_everything(0)\n",
    "\n",
    "model = TemporalConvNet(24, num_channels=[16, 8, 4])\n",
    "criterion = nn.BCEWithLogitsLoss()\n",
    "optimizer = optim.Adam(model.parameters(), lr=0.0005)\n",
    "\n",
    "# Train the model\n",
    "num_epochs = 10\n",
    "epoch_losses = []\n",
    "\n",
    "for epoch in range(num_epochs):\n",
    "    epoch_loss = 0\n",
    "    for batch_idx, (x, y) in enumerate(trn_loader):\n",
    "        \n",
    "        # Forward pass\n",
    "        preds = model(x.permute(0, 2, 1))\n",
    "        loss = criterion(preds, y)\n",
    "        epoch_loss += loss.item() / len(trn_loader)\n",
    "\n",
    "        # Backward pass\n",
    "        optimizer.zero_grad()\n",
    "        loss.backward()\n",
    "        optimizer.step()\n",
    "   \n",
    "    # Print the average loss for this epoch\n",
    "    print(f\"Epoch {epoch+1}/{num_epochs}, Average Loss: {epoch_loss:.4f}\")\n",
    "    epoch_losses.append(epoch_loss)\n",
    "         \n",
    "# Plot the average loss over time\n",
    "plt.plot(epoch_losses)\n",
    "plt.xlabel(\"Epoch\")\n",
    "plt.ylabel(\"Average Loss\")\n",
    "plt.show()        "
   ]
  },
  {
   "cell_type": "code",
   "execution_count": 18,
   "id": "8ade97d1",
   "metadata": {},
   "outputs": [],
   "source": [
    "# Evaluate the model on the test set\n",
    "results =  []\n",
    "model.eval()\n",
    "with torch.no_grad():\n",
    "    for x, y in val_loader:\n",
    "        preds = model(x.permute(0, 2, 1))\n",
    "        results.append(pd.DataFrame(dict(\n",
    "            targets=y.numpy().flatten(),\n",
    "            predictions=preds.numpy().flatten(),\n",
    "        )))\n",
    "        \n",
    "results = pd.concat(results, ignore_index=True)"
   ]
  },
  {
   "cell_type": "code",
   "execution_count": 19,
   "id": "19499896",
   "metadata": {},
   "outputs": [
    {
     "data": {
      "image/png": "[encoded data removed]",
      "text/plain": [
       "<Figure size 1000x400 with 4 Axes>"
      ]
     },
     "metadata": {},
     "output_type": "display_data"
    }
   ],
   "source": [
    "import pandas as pd\n",
    "import numpy as np\n",
    "from sklearn import metrics\n",
    "import matplotlib.pyplot as plt\n",
    "\n",
    "# Create a sample binary target series and predicted probabilities series\n",
    "target = results.targets\n",
    "probs = expit(results.predictions)\n",
    "\n",
    "# Compute accuracy for each possible threshold value\n",
    "thresholds = np.linspace(0.5, 1, 501)[1:]\n",
    "tp = np.array([np.sum((target==1) & (probs >= t)) for t in thresholds])\n",
    "tn = np.array([np.sum((target==0) & (probs < t)) for t in thresholds])\n",
    "fp = np.array([np.sum((target==0) & (probs >= t)) for t in thresholds])\n",
    "fn = np.array([np.sum((target==1) & (probs < t)) for t in thresholds])\n",
    "\n",
    "# Plot false positives vs false negatives parameterized by classification threshold\n",
    "plt.figure(figsize=(10, 4))\n",
    "\n",
    "plt.subplot(1, 2, 1)\n",
    "plt.scatter(fp, fn, c=thresholds, cmap=\"jet\")\n",
    "plt.plot(fp, fn, \"k-\", alpha=0.5)\n",
    "plt.colorbar()\n",
    "plt.xlabel(\"False Positives\")\n",
    "plt.ylabel(\"False Negatives\")\n",
    "plt.title(\"False Positives vs False Negatives\")\n",
    "\n",
    "plt.subplot(1, 2, 2)\n",
    "plt.scatter(tp, tn, c=thresholds, cmap=\"jet\")\n",
    "plt.plot(tp, tn, \"k-\", alpha=0.5)\n",
    "plt.colorbar()\n",
    "plt.xlabel(\"True Positives\")\n",
    "plt.ylabel(\"True Negatives\")\n",
    "plt.title(\"True Positives vs True Negatives\")\n",
    "\n",
    "plt.tight_layout()\n",
    "plt.show()"
   ]
  },
  {
   "cell_type": "code",
   "execution_count": 20,
   "id": "410541fb",
   "metadata": {},
   "outputs": [
    {
     "data": {
      "text/plain": [
       "102190"
      ]
     },
     "execution_count": 20,
     "metadata": {},
     "output_type": "execute_result"
    }
   ],
   "source": [
    "observations.is_valid_seq.sum()"
   ]
  },
  {
   "cell_type": "code",
   "execution_count": 21,
   "id": "1f360acd",
   "metadata": {},
   "outputs": [
    {
     "data": {
      "text/plain": [
       "0.9988892259516585"
      ]
     },
     "execution_count": 21,
     "metadata": {},
     "output_type": "execute_result"
    }
   ],
   "source": [
    "# baseline_tp = np.sum((target==1) & (baseline == 1))\n",
    "# baseline_tn = np.sum((target==0) & (baseline == 0))\n",
    "# baseline_fp = np.sum((target==0) & (baseline == 1))\n",
    "# baseline_fn = np.sum((target==1) & (baseline == 0))\n",
    "\n",
    "np.mean((tp + tn) / (tp + tn + fp + fn))"
   ]
  },
  {
   "cell_type": "code",
   "execution_count": null,
   "id": "0e44c292",
   "metadata": {},
   "outputs": [],
   "source": [
    "accuracy_score(target, probs >= best_threshold)"
   ]
  },
  {
   "cell_type": "code",
   "execution_count": 22,
   "id": "42c433f6",
   "metadata": {},
   "outputs": [
    {
     "name": "stdout",
     "output_type": "stream",
     "text": [
      "0.548\n"
     ]
    },
    {
     "data": {
      "text/plain": [
       "array([[20395,    23],\n",
       "       [    0,    20]], dtype=int64)"
      ]
     },
     "execution_count": 22,
     "metadata": {},
     "output_type": "execute_result"
    }
   ],
   "source": [
    "# best threshold with n false negatives\n",
    "n = 0\n",
    "best_threshold = thresholds[np.where(fn == n)[0]][-1]\n",
    "print(best_threshold)\n",
    "\n",
    "# TN | FP\n",
    "# ---|---\n",
    "# FN | TP\n",
    "confusion_matrix(target, probs > best_threshold)"
   ]
  },
  {
   "cell_type": "code",
   "execution_count": 23,
   "id": "92fc2bda",
   "metadata": {},
   "outputs": [
    {
     "data": {
      "text/plain": [
       "array([[20418,     0],\n",
       "       [   20,     0]], dtype=int64)"
      ]
     },
     "execution_count": 23,
     "metadata": {},
     "output_type": "execute_result"
    }
   ],
   "source": [
    "# baseline\n",
    "\n",
    "# TN | FP\n",
    "# ---|---\n",
    "# FN | TP\n",
    "baseline = np.zeros(len(target))\n",
    "confusion_matrix(target, baseline)"
   ]
  },
  {
   "cell_type": "code",
   "execution_count": null,
   "id": "ee5e87cf",
   "metadata": {},
   "outputs": [],
   "source": []
  },
  {
   "cell_type": "code",
   "execution_count": null,
   "id": "d34c46dc",
   "metadata": {},
   "outputs": [],
   "source": []
  },
  {
   "cell_type": "code",
   "execution_count": 24,
   "id": "3b618914",
   "metadata": {},
   "outputs": [
    {
     "data": {
      "text/plain": [
       "(99.90214306683629, 0, 20)"
      ]
     },
     "execution_count": 24,
     "metadata": {},
     "output_type": "execute_result"
    }
   ],
   "source": [
    "baseline_fp = 0\n",
    "baseline_fn = np.sum(target==1)\n",
    "\n",
    "baseline_acc = 100*accuracy_score(\n",
    "    results.targets, \n",
    "    np.zeros(len(results))\n",
    ")\n",
    "\n",
    "baseline_acc, baseline_fp, baseline_fn"
   ]
  },
  {
   "cell_type": "code",
   "execution_count": 26,
   "id": "c3442253",
   "metadata": {},
   "outputs": [
    {
     "data": {
      "text/plain": [
       "(0.548, 99.88746452686172)"
      ]
     },
     "execution_count": 26,
     "metadata": {},
     "output_type": "execute_result"
    }
   ],
   "source": [
    "best_threshold = thresholds[np.where(np.array(fn) == 0)[0]][-1]\n",
    "\n",
    "val_loss = log_loss(\n",
    "    results.targets, \n",
    "    expit(results.predictions)\n",
    ")\n",
    "\n",
    "val_acc = 100*accuracy_score(\n",
    "    results.targets, \n",
    "    expit(results.predictions) > best_threshold\n",
    ")\n",
    "\n",
    "best_threshold, val_acc"
   ]
  },
  {
   "cell_type": "code",
   "execution_count": null,
   "id": "ec36e7aa",
   "metadata": {},
   "outputs": [],
   "source": [
    "# # Create a Plotly figure with two synced subplots and a range selector\n",
    "# fig = sp.make_subplots(rows=2, cols=1, shared_xaxes=True, vertical_spacing=0.1)\n",
    "# fig.add_trace(go.Scatter(x=series.index, y=series.values, mode=\"lines\",), row=1, col=1)\n",
    "# fig.add_trace(go.Scatter(x=seq_ok.index, y=seq_ok.values), row=2, col=1)\n",
    "\n",
    "# # Update the layout with titles, axis labels, and a range selector\n",
    "# fig.update_layout(\n",
    "#     xaxis=dict(title=\"Time\"),\n",
    "#     xaxis2=dict(\n",
    "#         title=\"Time\",\n",
    "#         rangeselector=dict(),\n",
    "#         rangeslider=dict(visible=True),\n",
    "#         type=\"date\"\n",
    "#     ),\n",
    "#     yaxis1=dict(domain=[0.55, 1]),\n",
    "#     yaxis2=dict(domain=[0, 0.45])\n",
    "# )\n",
    "\n",
    "# # Show the plot\n",
    "# fig.show()\n"
   ]
  },
  {
   "cell_type": "code",
   "execution_count": null,
   "id": "fcf97f8a",
   "metadata": {},
   "outputs": [],
   "source": []
  },
  {
   "cell_type": "code",
   "execution_count": null,
   "id": "a6d514ba",
   "metadata": {},
   "outputs": [],
   "source": []
  },
  {
   "cell_type": "code",
   "execution_count": null,
   "id": "16b19f4c",
   "metadata": {},
   "outputs": [],
   "source": []
  },
  {
   "cell_type": "code",
   "execution_count": null,
   "id": "2f434aff",
   "metadata": {},
   "outputs": [],
   "source": []
  }
 ],
 "metadata": {
  "kernelspec": {
   "display_name": "Python 3 (ipykernel)",
   "language": "python",
   "name": "python3"
  },
  "language_info": {
   "codemirror_mode": {
    "name": "ipython",
    "version": 3
   },
   "file_extension": ".py",
   "mimetype": "text/x-python",
   "name": "python",
   "nbconvert_exporter": "python",
   "pygments_lexer": "ipython3",
   "version": "3.8.16"
  }
 },
 "nbformat": 4,
 "nbformat_minor": 5
}
